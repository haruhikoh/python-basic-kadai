{
  "nbformat": 4,
  "nbformat_minor": 0,
  "metadata": {
    "colab": {
      "provenance": []
    },
    "kernelspec": {
      "name": "python3",
      "display_name": "Python 3"
    },
    "language_info": {
      "name": "python"
    }
  },
  "cells": [
    {
      "cell_type": "code",
      "execution_count": 4,
      "metadata": {
        "colab": {
          "base_uri": "https://localhost:8080/"
        },
        "id": "bcpAmGXGsiJC",
        "outputId": "4d8700e1-7681-4822-f80d-4864f7bab019"
      },
      "outputs": [
        {
          "output_type": "stream",
          "name": "stdout",
          "text": [
            "侍太郎さんは大人です\n",
            "侍花子さんは大人です\n",
            "侍長男さんは大人ではありません\n",
            "侍次男さんは大人ではありません\n"
          ]
        }
      ],
      "source": [
        "class Human:\n",
        "\n",
        "  def __init__(self,name,age):\n",
        "    self.name = name\n",
        "    self.age = age\n",
        "\n",
        "  def check_adult(self):\n",
        "    if self.age >= 20:\n",
        "      return f\"{self.name}さんは大人です\"\n",
        "    else:\n",
        "      return f\"{self.name}さんは大人ではありません\"\n",
        "\n",
        "#インスタンス化\n",
        "human1 = Human(\"侍太郎\", 30)\n",
        "human2 = Human(\"侍花子\", 29)\n",
        "human3 = Human(\"侍長男\", 10)\n",
        "human4 = Human(\"侍次男\", 7)\n",
        "\n",
        "human_list = [human1, human2, human3, human4]\n",
        "\n",
        "for human in human_list:\n",
        "  print(human.check_adult())\n",
        "\n"
      ]
    }
  ]
}