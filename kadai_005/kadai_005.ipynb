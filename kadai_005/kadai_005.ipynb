{
  "nbformat": 4,
  "nbformat_minor": 0,
  "metadata": {
    "colab": {
      "provenance": []
    },
    "kernelspec": {
      "name": "python3",
      "display_name": "Python 3"
    },
    "language_info": {
      "name": "python"
    }
  },
  "cells": [
    {
      "cell_type": "code",
      "execution_count": 3,
      "metadata": {
        "colab": {
          "base_uri": "https://localhost:8080/"
        },
        "id": "4KR4nUQaXEDm",
        "outputId": "2c6ab1a0-bec7-4b12-8e38-aa6e85f74b4f"
      },
      "outputs": [
        {
          "output_type": "stream",
          "name": "stdout",
          "text": [
            "75.0cm2\n"
          ]
        }
      ],
      "source": [
        "top_side = 10\n",
        "bottom_side=20\n",
        "hight = 5\n",
        "\n",
        "trapezoid = (top_side + bottom_side)  * hight / 2\n",
        "\n",
        "print(f\"{trapezoid}cm2\")"
      ]
    }
  ]
}