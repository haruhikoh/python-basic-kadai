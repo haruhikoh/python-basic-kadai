{
  "nbformat": 4,
  "nbformat_minor": 0,
  "metadata": {
    "colab": {
      "provenance": []
    },
    "kernelspec": {
      "name": "python3",
      "display_name": "Python 3"
    },
    "language_info": {
      "name": "python"
    }
  },
  "cells": [
    {
      "cell_type": "code",
      "execution_count": 1,
      "metadata": {
        "colab": {
          "base_uri": "https://localhost:8080/"
        },
        "id": "4KR4nUQaXEDm",
        "outputId": "aaaa9e6f-ea71-40bb-e7c6-179704086ecf"
      },
      "outputs": [
        {
          "output_type": "stream",
          "name": "stdout",
          "text": [
            "75.0cm²\n"
          ]
        }
      ],
      "source": [
        "top_side = 10\n",
        "bottom_side=20\n",
        "hight = 5\n",
        "\n",
        "trapezoid = (top_side + bottom_side)  * hight / 2\n",
        "\n",
        "print(f\"{trapezoid}cm²\")"
      ]
    }
  ]
}