{
  "nbformat": 4,
  "nbformat_minor": 0,
  "metadata": {
    "colab": {
      "provenance": []
    },
    "kernelspec": {
      "name": "python3",
      "display_name": "Python 3"
    },
    "language_info": {
      "name": "python"
    }
  },
  "cells": [
    {
      "cell_type": "code",
      "execution_count": 38,
      "metadata": {
        "colab": {
          "base_uri": "https://localhost:8080/"
        },
        "id": "j60mh1Kn0qRz",
        "outputId": "7297585a-5089-4558-b02e-73d9ac064d4f"
      },
      "outputs": [
        {
          "output_type": "stream",
          "name": "stdout",
          "text": [
            "1水\n",
            "2金\n",
            "3地\n",
            "4火\n",
            "5木\n",
            "6土\n",
            "7天\n",
            "8海\n",
            "9冥\n"
          ]
        }
      ],
      "source": [
        "array = [\"水\",\"金\",\"地\",\"火\",\"木\",\"土\",\"天\",\"海\",\"冥\"]\n",
        "\n",
        "for inedex,value in enumerate(array):\n",
        "    print(f\"{inedex + 1}{value}\")\n",
        "\n"
      ]
    }
  ]
}