{
  "nbformat": 4,
  "nbformat_minor": 0,
  "metadata": {
    "colab": {
      "provenance": []
    },
    "kernelspec": {
      "name": "python3",
      "display_name": "Python 3"
    },
    "language_info": {
      "name": "python"
    }
  },
  "cells": [
    {
      "cell_type": "code",
      "execution_count": 1,
      "metadata": {
        "colab": {
          "base_uri": "https://localhost:8080/"
        },
        "id": "uH0zdTUJSjRN",
        "outputId": "9d56c4d1-2c85-40f3-bbf3-a566f8450190"
      },
      "outputs": [
        {
          "output_type": "stream",
          "name": "stdout",
          "text": [
            "121.00000000000001\n"
          ]
        }
      ],
      "source": [
        "def calculate_price(price,tax):\n",
        "  total = price * (tax /100 + 1)\n",
        "\n",
        "  print(total)\n",
        "\n",
        "calculate_price(110,10)"
      ]
    }
  ]
}