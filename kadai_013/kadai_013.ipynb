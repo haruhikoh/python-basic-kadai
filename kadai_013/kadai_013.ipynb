{
  "nbformat": 4,
  "nbformat_minor": 0,
  "metadata": {
    "colab": {
      "provenance": []
    },
    "kernelspec": {
      "name": "python3",
      "display_name": "Python 3"
    },
    "language_info": {
      "name": "python"
    }
  },
  "cells": [
    {
      "cell_type": "code",
      "execution_count": 6,
      "metadata": {
        "colab": {
          "base_uri": "https://localhost:8080/"
        },
        "id": "uH0zdTUJSjRN",
        "outputId": "e1cd0d18-3e72-41a4-ea0f-9bbdfd3eb656"
      },
      "outputs": [
        {
          "output_type": "execute_result",
          "data": {
            "text/plain": [
              "121.00000000000001"
            ]
          },
          "metadata": {},
          "execution_count": 6
        }
      ],
      "source": [
        "def calculate_price(price,tax):\n",
        "  return price * (tax / 100 + 1)\n",
        "\n",
        "calculate_price(110,10)"
      ]
    }
  ]
}